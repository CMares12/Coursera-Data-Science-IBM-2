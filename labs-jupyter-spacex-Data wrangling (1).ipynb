{
 "cells": [
  {
   "cell_type": "markdown",
   "metadata": {},
   "source": [
    "<p style=\"text-align:center\">\n",
    "    <a href=\"https://skills.network\" target=\"_blank\">\n",
    "    <img src=\"https://cf-courses-data.s3.us.cloud-object-storage.appdomain.cloud/assets/logos/SN_web_lightmode.png\" width=\"200\" alt=\"Skills Network Logo\">\n",
    "    </a>\n",
    "</p>\n"
   ]
  },
  {
   "cell_type": "markdown",
   "metadata": {},
   "source": [
    "# **Space X  Falcon 9 First Stage Landing Prediction**\n"
   ]
  },
  {
   "cell_type": "markdown",
   "metadata": {},
   "source": [
    " ## Lab 2: Data wrangling \n"
   ]
  },
  {
   "cell_type": "markdown",
   "metadata": {},
   "source": [
    "Estimated time needed: **60** minutes\n"
   ]
  },
  {
   "cell_type": "markdown",
   "metadata": {},
   "source": [
    "In this lab, we will perform some Exploratory Data Analysis (EDA) to find some patterns in the data and determine what would be the label for training supervised models. \n",
    "\n",
    "In the data set, there are several different cases where the booster did not land successfully. Sometimes a landing was attempted but failed due to an accident; for example, <code>True Ocean</code> means the mission outcome was successfully  landed to a specific region of the ocean while <code>False Ocean</code> means the mission outcome was unsuccessfully landed to a specific region of the ocean. <code>True RTLS</code> means the mission outcome was successfully  landed to a ground pad <code>False RTLS</code> means the mission outcome was unsuccessfully landed to a ground pad.<code>True ASDS</code> means the mission outcome was successfully landed on  a drone ship <code>False ASDS</code> means the mission outcome was unsuccessfully landed on a drone ship. \n",
    "\n",
    "In this lab we will mainly convert those outcomes into Training Labels with `1` means the booster successfully landed `0` means it was unsuccessful.\n"
   ]
  },
  {
   "cell_type": "markdown",
   "metadata": {},
   "source": [
    "Falcon 9 first stage will land successfully\n"
   ]
  },
  {
   "cell_type": "markdown",
   "metadata": {},
   "source": [
    "![](https://cf-courses-data.s3.us.cloud-object-storage.appdomain.cloud/IBMDeveloperSkillsNetwork-DS0701EN-SkillsNetwork/api/Images/landing_1.gif)\n"
   ]
  },
  {
   "cell_type": "markdown",
   "metadata": {},
   "source": [
    "Several examples of an unsuccessful landing are shown here:\n"
   ]
  },
  {
   "cell_type": "markdown",
   "metadata": {},
   "source": [
    "![](https://cf-courses-data.s3.us.cloud-object-storage.appdomain.cloud/IBMDeveloperSkillsNetwork-DS0701EN-SkillsNetwork/api/Images/crash.gif)\n"
   ]
  },
  {
   "cell_type": "markdown",
   "metadata": {},
   "source": [
    "   \n"
   ]
  },
  {
   "cell_type": "markdown",
   "metadata": {},
   "source": [
    "## Objectives\n",
    "Perform exploratory  Data Analysis and determine Training Labels \n",
    "\n",
    "- Exploratory Data Analysis\n",
    "- Determine Training Labels \n"
   ]
  },
  {
   "cell_type": "markdown",
   "metadata": {},
   "source": [
    "----\n"
   ]
  },
  {
   "cell_type": "markdown",
   "metadata": {},
   "source": [
    "Install the below libraries\n"
   ]
  },
  {
   "cell_type": "code",
   "execution_count": 2,
   "metadata": {},
   "outputs": [
    {
     "name": "stdout",
     "output_type": "stream",
     "text": [
      "Collecting pandas\n",
      "  Downloading pandas-2.3.2-cp312-cp312-manylinux_2_17_x86_64.manylinux2014_x86_64.whl.metadata (91 kB)\n",
      "Collecting numpy>=1.26.0 (from pandas)\n",
      "  Downloading numpy-2.3.3-cp312-cp312-manylinux_2_27_x86_64.manylinux_2_28_x86_64.whl.metadata (62 kB)\n",
      "Requirement already satisfied: python-dateutil>=2.8.2 in /opt/conda/lib/python3.12/site-packages (from pandas) (2.9.0.post0)\n",
      "Requirement already satisfied: pytz>=2020.1 in /opt/conda/lib/python3.12/site-packages (from pandas) (2024.2)\n",
      "Collecting tzdata>=2022.7 (from pandas)\n",
      "  Downloading tzdata-2025.2-py2.py3-none-any.whl.metadata (1.4 kB)\n",
      "Requirement already satisfied: six>=1.5 in /opt/conda/lib/python3.12/site-packages (from python-dateutil>=2.8.2->pandas) (1.17.0)\n",
      "Downloading pandas-2.3.2-cp312-cp312-manylinux_2_17_x86_64.manylinux2014_x86_64.whl (12.0 MB)\n",
      "\u001b[2K   \u001b[90m━━━━━━━━━━━━━━━━━━━━━━━━━━━━━━━━━━━━━━━━\u001b[0m \u001b[32m12.0/12.0 MB\u001b[0m \u001b[31m132.4 MB/s\u001b[0m eta \u001b[36m0:00:00\u001b[0m\n",
      "\u001b[?25hDownloading numpy-2.3.3-cp312-cp312-manylinux_2_27_x86_64.manylinux_2_28_x86_64.whl (16.6 MB)\n",
      "\u001b[2K   \u001b[90m━━━━━━━━━━━━━━━━━━━━━━━━━━━━━━━━━━━━━━━━\u001b[0m \u001b[32m16.6/16.6 MB\u001b[0m \u001b[31m169.6 MB/s\u001b[0m eta \u001b[36m0:00:00\u001b[0m\n",
      "\u001b[?25hDownloading tzdata-2025.2-py2.py3-none-any.whl (347 kB)\n",
      "Installing collected packages: tzdata, numpy, pandas\n",
      "Successfully installed numpy-2.3.3 pandas-2.3.2 tzdata-2025.2\n",
      "Requirement already satisfied: numpy in /opt/conda/lib/python3.12/site-packages (2.3.3)\n"
     ]
    }
   ],
   "source": [
    "!pip install pandas\n",
    "!pip install numpy"
   ]
  },
  {
   "cell_type": "markdown",
   "metadata": {},
   "source": [
    "## Import Libraries and Define Auxiliary Functions\n"
   ]
  },
  {
   "cell_type": "markdown",
   "metadata": {},
   "source": [
    "We will import the following libraries.\n"
   ]
  },
  {
   "cell_type": "code",
   "execution_count": 3,
   "metadata": {},
   "outputs": [],
   "source": [
    "# Pandas is a software library written for the Python programming language for data manipulation and analysis.\n",
    "import pandas as pd\n",
    "#NumPy is a library for the Python programming language, adding support for large, multi-dimensional arrays and matrices, along with a large collection of high-level mathematical functions to operate on these arrays\n",
    "import numpy as np"
   ]
  },
  {
   "cell_type": "markdown",
   "metadata": {},
   "source": [
    "### Data Analysis \n"
   ]
  },
  {
   "cell_type": "markdown",
   "metadata": {},
   "source": [
    "Load Space X dataset, from last section.\n"
   ]
  },
  {
   "cell_type": "code",
   "execution_count": 4,
   "metadata": {},
   "outputs": [
    {
     "data": {
      "text/html": [
       "<div>\n",
       "<style scoped>\n",
       "    .dataframe tbody tr th:only-of-type {\n",
       "        vertical-align: middle;\n",
       "    }\n",
       "\n",
       "    .dataframe tbody tr th {\n",
       "        vertical-align: top;\n",
       "    }\n",
       "\n",
       "    .dataframe thead th {\n",
       "        text-align: right;\n",
       "    }\n",
       "</style>\n",
       "<table border=\"1\" class=\"dataframe\">\n",
       "  <thead>\n",
       "    <tr style=\"text-align: right;\">\n",
       "      <th></th>\n",
       "      <th>FlightNumber</th>\n",
       "      <th>Date</th>\n",
       "      <th>BoosterVersion</th>\n",
       "      <th>PayloadMass</th>\n",
       "      <th>Orbit</th>\n",
       "      <th>LaunchSite</th>\n",
       "      <th>Outcome</th>\n",
       "      <th>Flights</th>\n",
       "      <th>GridFins</th>\n",
       "      <th>Reused</th>\n",
       "      <th>Legs</th>\n",
       "      <th>LandingPad</th>\n",
       "      <th>Block</th>\n",
       "      <th>ReusedCount</th>\n",
       "      <th>Serial</th>\n",
       "      <th>Longitude</th>\n",
       "      <th>Latitude</th>\n",
       "    </tr>\n",
       "  </thead>\n",
       "  <tbody>\n",
       "    <tr>\n",
       "      <th>0</th>\n",
       "      <td>1</td>\n",
       "      <td>2010-06-04</td>\n",
       "      <td>Falcon 9</td>\n",
       "      <td>6104.959412</td>\n",
       "      <td>LEO</td>\n",
       "      <td>CCAFS SLC 40</td>\n",
       "      <td>None None</td>\n",
       "      <td>1</td>\n",
       "      <td>False</td>\n",
       "      <td>False</td>\n",
       "      <td>False</td>\n",
       "      <td>NaN</td>\n",
       "      <td>1.0</td>\n",
       "      <td>0</td>\n",
       "      <td>B0003</td>\n",
       "      <td>-80.577366</td>\n",
       "      <td>28.561857</td>\n",
       "    </tr>\n",
       "    <tr>\n",
       "      <th>1</th>\n",
       "      <td>2</td>\n",
       "      <td>2012-05-22</td>\n",
       "      <td>Falcon 9</td>\n",
       "      <td>525.000000</td>\n",
       "      <td>LEO</td>\n",
       "      <td>CCAFS SLC 40</td>\n",
       "      <td>None None</td>\n",
       "      <td>1</td>\n",
       "      <td>False</td>\n",
       "      <td>False</td>\n",
       "      <td>False</td>\n",
       "      <td>NaN</td>\n",
       "      <td>1.0</td>\n",
       "      <td>0</td>\n",
       "      <td>B0005</td>\n",
       "      <td>-80.577366</td>\n",
       "      <td>28.561857</td>\n",
       "    </tr>\n",
       "    <tr>\n",
       "      <th>2</th>\n",
       "      <td>3</td>\n",
       "      <td>2013-03-01</td>\n",
       "      <td>Falcon 9</td>\n",
       "      <td>677.000000</td>\n",
       "      <td>ISS</td>\n",
       "      <td>CCAFS SLC 40</td>\n",
       "      <td>None None</td>\n",
       "      <td>1</td>\n",
       "      <td>False</td>\n",
       "      <td>False</td>\n",
       "      <td>False</td>\n",
       "      <td>NaN</td>\n",
       "      <td>1.0</td>\n",
       "      <td>0</td>\n",
       "      <td>B0007</td>\n",
       "      <td>-80.577366</td>\n",
       "      <td>28.561857</td>\n",
       "    </tr>\n",
       "    <tr>\n",
       "      <th>3</th>\n",
       "      <td>4</td>\n",
       "      <td>2013-09-29</td>\n",
       "      <td>Falcon 9</td>\n",
       "      <td>500.000000</td>\n",
       "      <td>PO</td>\n",
       "      <td>VAFB SLC 4E</td>\n",
       "      <td>False Ocean</td>\n",
       "      <td>1</td>\n",
       "      <td>False</td>\n",
       "      <td>False</td>\n",
       "      <td>False</td>\n",
       "      <td>NaN</td>\n",
       "      <td>1.0</td>\n",
       "      <td>0</td>\n",
       "      <td>B1003</td>\n",
       "      <td>-120.610829</td>\n",
       "      <td>34.632093</td>\n",
       "    </tr>\n",
       "    <tr>\n",
       "      <th>4</th>\n",
       "      <td>5</td>\n",
       "      <td>2013-12-03</td>\n",
       "      <td>Falcon 9</td>\n",
       "      <td>3170.000000</td>\n",
       "      <td>GTO</td>\n",
       "      <td>CCAFS SLC 40</td>\n",
       "      <td>None None</td>\n",
       "      <td>1</td>\n",
       "      <td>False</td>\n",
       "      <td>False</td>\n",
       "      <td>False</td>\n",
       "      <td>NaN</td>\n",
       "      <td>1.0</td>\n",
       "      <td>0</td>\n",
       "      <td>B1004</td>\n",
       "      <td>-80.577366</td>\n",
       "      <td>28.561857</td>\n",
       "    </tr>\n",
       "    <tr>\n",
       "      <th>5</th>\n",
       "      <td>6</td>\n",
       "      <td>2014-01-06</td>\n",
       "      <td>Falcon 9</td>\n",
       "      <td>3325.000000</td>\n",
       "      <td>GTO</td>\n",
       "      <td>CCAFS SLC 40</td>\n",
       "      <td>None None</td>\n",
       "      <td>1</td>\n",
       "      <td>False</td>\n",
       "      <td>False</td>\n",
       "      <td>False</td>\n",
       "      <td>NaN</td>\n",
       "      <td>1.0</td>\n",
       "      <td>0</td>\n",
       "      <td>B1005</td>\n",
       "      <td>-80.577366</td>\n",
       "      <td>28.561857</td>\n",
       "    </tr>\n",
       "    <tr>\n",
       "      <th>6</th>\n",
       "      <td>7</td>\n",
       "      <td>2014-04-18</td>\n",
       "      <td>Falcon 9</td>\n",
       "      <td>2296.000000</td>\n",
       "      <td>ISS</td>\n",
       "      <td>CCAFS SLC 40</td>\n",
       "      <td>True Ocean</td>\n",
       "      <td>1</td>\n",
       "      <td>False</td>\n",
       "      <td>False</td>\n",
       "      <td>True</td>\n",
       "      <td>NaN</td>\n",
       "      <td>1.0</td>\n",
       "      <td>0</td>\n",
       "      <td>B1006</td>\n",
       "      <td>-80.577366</td>\n",
       "      <td>28.561857</td>\n",
       "    </tr>\n",
       "    <tr>\n",
       "      <th>7</th>\n",
       "      <td>8</td>\n",
       "      <td>2014-07-14</td>\n",
       "      <td>Falcon 9</td>\n",
       "      <td>1316.000000</td>\n",
       "      <td>LEO</td>\n",
       "      <td>CCAFS SLC 40</td>\n",
       "      <td>True Ocean</td>\n",
       "      <td>1</td>\n",
       "      <td>False</td>\n",
       "      <td>False</td>\n",
       "      <td>True</td>\n",
       "      <td>NaN</td>\n",
       "      <td>1.0</td>\n",
       "      <td>0</td>\n",
       "      <td>B1007</td>\n",
       "      <td>-80.577366</td>\n",
       "      <td>28.561857</td>\n",
       "    </tr>\n",
       "    <tr>\n",
       "      <th>8</th>\n",
       "      <td>9</td>\n",
       "      <td>2014-08-05</td>\n",
       "      <td>Falcon 9</td>\n",
       "      <td>4535.000000</td>\n",
       "      <td>GTO</td>\n",
       "      <td>CCAFS SLC 40</td>\n",
       "      <td>None None</td>\n",
       "      <td>1</td>\n",
       "      <td>False</td>\n",
       "      <td>False</td>\n",
       "      <td>False</td>\n",
       "      <td>NaN</td>\n",
       "      <td>1.0</td>\n",
       "      <td>0</td>\n",
       "      <td>B1008</td>\n",
       "      <td>-80.577366</td>\n",
       "      <td>28.561857</td>\n",
       "    </tr>\n",
       "    <tr>\n",
       "      <th>9</th>\n",
       "      <td>10</td>\n",
       "      <td>2014-09-07</td>\n",
       "      <td>Falcon 9</td>\n",
       "      <td>4428.000000</td>\n",
       "      <td>GTO</td>\n",
       "      <td>CCAFS SLC 40</td>\n",
       "      <td>None None</td>\n",
       "      <td>1</td>\n",
       "      <td>False</td>\n",
       "      <td>False</td>\n",
       "      <td>False</td>\n",
       "      <td>NaN</td>\n",
       "      <td>1.0</td>\n",
       "      <td>0</td>\n",
       "      <td>B1011</td>\n",
       "      <td>-80.577366</td>\n",
       "      <td>28.561857</td>\n",
       "    </tr>\n",
       "  </tbody>\n",
       "</table>\n",
       "</div>"
      ],
      "text/plain": [
       "   FlightNumber        Date BoosterVersion  PayloadMass Orbit    LaunchSite  \\\n",
       "0             1  2010-06-04       Falcon 9  6104.959412   LEO  CCAFS SLC 40   \n",
       "1             2  2012-05-22       Falcon 9   525.000000   LEO  CCAFS SLC 40   \n",
       "2             3  2013-03-01       Falcon 9   677.000000   ISS  CCAFS SLC 40   \n",
       "3             4  2013-09-29       Falcon 9   500.000000    PO   VAFB SLC 4E   \n",
       "4             5  2013-12-03       Falcon 9  3170.000000   GTO  CCAFS SLC 40   \n",
       "5             6  2014-01-06       Falcon 9  3325.000000   GTO  CCAFS SLC 40   \n",
       "6             7  2014-04-18       Falcon 9  2296.000000   ISS  CCAFS SLC 40   \n",
       "7             8  2014-07-14       Falcon 9  1316.000000   LEO  CCAFS SLC 40   \n",
       "8             9  2014-08-05       Falcon 9  4535.000000   GTO  CCAFS SLC 40   \n",
       "9            10  2014-09-07       Falcon 9  4428.000000   GTO  CCAFS SLC 40   \n",
       "\n",
       "       Outcome  Flights  GridFins  Reused   Legs LandingPad  Block  \\\n",
       "0    None None        1     False   False  False        NaN    1.0   \n",
       "1    None None        1     False   False  False        NaN    1.0   \n",
       "2    None None        1     False   False  False        NaN    1.0   \n",
       "3  False Ocean        1     False   False  False        NaN    1.0   \n",
       "4    None None        1     False   False  False        NaN    1.0   \n",
       "5    None None        1     False   False  False        NaN    1.0   \n",
       "6   True Ocean        1     False   False   True        NaN    1.0   \n",
       "7   True Ocean        1     False   False   True        NaN    1.0   \n",
       "8    None None        1     False   False  False        NaN    1.0   \n",
       "9    None None        1     False   False  False        NaN    1.0   \n",
       "\n",
       "   ReusedCount Serial   Longitude   Latitude  \n",
       "0            0  B0003  -80.577366  28.561857  \n",
       "1            0  B0005  -80.577366  28.561857  \n",
       "2            0  B0007  -80.577366  28.561857  \n",
       "3            0  B1003 -120.610829  34.632093  \n",
       "4            0  B1004  -80.577366  28.561857  \n",
       "5            0  B1005  -80.577366  28.561857  \n",
       "6            0  B1006  -80.577366  28.561857  \n",
       "7            0  B1007  -80.577366  28.561857  \n",
       "8            0  B1008  -80.577366  28.561857  \n",
       "9            0  B1011  -80.577366  28.561857  "
      ]
     },
     "execution_count": 4,
     "metadata": {},
     "output_type": "execute_result"
    }
   ],
   "source": [
    "df=pd.read_csv(\"https://cf-courses-data.s3.us.cloud-object-storage.appdomain.cloud/IBM-DS0321EN-SkillsNetwork/datasets/dataset_part_1.csv\")\n",
    "df.head(10)"
   ]
  },
  {
   "cell_type": "markdown",
   "metadata": {},
   "source": [
    "Identify and calculate the percentage of the missing values in each attribute\n"
   ]
  },
  {
   "cell_type": "code",
   "execution_count": 5,
   "metadata": {},
   "outputs": [
    {
     "data": {
      "text/plain": [
       "FlightNumber       0.000000\n",
       "Date               0.000000\n",
       "BoosterVersion     0.000000\n",
       "PayloadMass        0.000000\n",
       "Orbit              0.000000\n",
       "LaunchSite         0.000000\n",
       "Outcome            0.000000\n",
       "Flights            0.000000\n",
       "GridFins           0.000000\n",
       "Reused             0.000000\n",
       "Legs               0.000000\n",
       "LandingPad        28.888889\n",
       "Block              0.000000\n",
       "ReusedCount        0.000000\n",
       "Serial             0.000000\n",
       "Longitude          0.000000\n",
       "Latitude           0.000000\n",
       "dtype: float64"
      ]
     },
     "execution_count": 5,
     "metadata": {},
     "output_type": "execute_result"
    }
   ],
   "source": [
    "df.isnull().sum()/len(df)*100"
   ]
  },
  {
   "cell_type": "markdown",
   "metadata": {},
   "source": [
    "Identify which columns are numerical and categorical:\n"
   ]
  },
  {
   "cell_type": "code",
   "execution_count": 6,
   "metadata": {},
   "outputs": [
    {
     "data": {
      "text/plain": [
       "FlightNumber        int64\n",
       "Date               object\n",
       "BoosterVersion     object\n",
       "PayloadMass       float64\n",
       "Orbit              object\n",
       "LaunchSite         object\n",
       "Outcome            object\n",
       "Flights             int64\n",
       "GridFins             bool\n",
       "Reused               bool\n",
       "Legs                 bool\n",
       "LandingPad         object\n",
       "Block             float64\n",
       "ReusedCount         int64\n",
       "Serial             object\n",
       "Longitude         float64\n",
       "Latitude          float64\n",
       "dtype: object"
      ]
     },
     "execution_count": 6,
     "metadata": {},
     "output_type": "execute_result"
    }
   ],
   "source": [
    "df.dtypes"
   ]
  },
  {
   "cell_type": "markdown",
   "metadata": {},
   "source": [
    "### TASK 1: Calculate the number of launches on each site\n",
    "\n",
    "The data contains several Space X  launch facilities: <a href='https://en.wikipedia.org/wiki/List_of_Cape_Canaveral_and_Merritt_Island_launch_sites'>Cape Canaveral Space</a> Launch Complex 40  <b>VAFB SLC 4E </b> , Vandenberg Air Force Base Space Launch Complex 4E <b>(SLC-4E)</b>, Kennedy Space Center Launch Complex 39A <b>KSC LC 39A </b>.The location of each Launch Is placed in the column <code>LaunchSite</code>\n"
   ]
  },
  {
   "cell_type": "markdown",
   "metadata": {},
   "source": [
    "Next, let's see the number of launches for each site.\n",
    "\n",
    "Use the method  <code>value_counts()</code> on the column <code>LaunchSite</code> to determine the number of launches  on each site: \n"
   ]
  },
  {
   "cell_type": "code",
   "execution_count": 16,
   "metadata": {},
   "outputs": [],
   "source": [
    "# Apply value_counts() on column LaunchSite\n",
    "import pandas as pd\n",
    "\n",
    "# 1) Toma el DataFrame que tengas\n",
    "try:\n",
    "    d = df.copy()\n",
    "except NameError:\n",
    "    try:\n",
    "        d = data_falcon9.copy()\n",
    "    except NameError:\n",
    "        d = pd.read_csv(\"dataset_part_2.csv\")\n",
    "\n",
    "# 2) Detectar el nombre real de la columna LaunchSite\n",
    "site_col = \"LaunchSite\" if \"LaunchSite\" in d.columns else (\"Launch site\" if \"Launch site\" in d.columns else None)\n",
    "assert site_col is not None, f\"No encuentro la columna de sitio en: {d.columns.tolist()}\"\n",
    "\n",
    "# 3) Contar lanzamientos por sitio\n",
    "site_counts = d[site_col].value_counts()\n"
   ]
  },
  {
   "cell_type": "markdown",
   "metadata": {},
   "source": [
    "Each launch aims to an dedicated orbit, and here are some common orbit types:\n"
   ]
  },
  {
   "cell_type": "markdown",
   "metadata": {},
   "source": [
    "\n",
    "\n",
    "* <b>LEO</b>: Low Earth orbit (LEO)is an Earth-centred orbit with an altitude of 2,000 km (1,200 mi) or less (approximately one-third of the radius of Earth),[1] or with at least 11.25 periods per day (an orbital period of 128 minutes or less) and an eccentricity less than 0.25.[2] Most of the manmade objects in outer space are in LEO <a href='https://en.wikipedia.org/wiki/Low_Earth_orbit'>[1]</a>.\n",
    "\n",
    "* <b>VLEO</b>: Very Low Earth Orbits (VLEO) can be defined as the orbits with a mean altitude below 450 km. Operating in these orbits can provide a number of benefits to Earth observation spacecraft as the spacecraft operates closer to the observation<a href='https://www.researchgate.net/publication/271499606_Very_Low_Earth_Orbit_mission_concepts_for_Earth_Observation_Benefits_and_challenges'>[2]</a>.\n",
    "\n",
    "\n",
    "* <b>GTO</b>(Geostationary Transfer Orbit): A geostationary transfer orbit is an elliptical Earth orbit used to transfer satellites from low Earth orbit (LEO) to geostationary orbit (GEO). In a GTO, the perigee (closest point to Earth) is much lower than GEO altitude, while the apogee (farthest point) reaches approximately 22,236 miles (35,786 kilometers) above Earth’s equator — the altitude of a geostationary orbit. Satellites in GTO use onboard propulsion to circularize their orbit at GEO altitude, where they can provide services such as weather monitoring, communications, and surveillance. <a  href=\"https://www.space.com/29222-geosynchronous-orbit.html\" >[3] </a>.\n",
    "\n",
    "\n",
    "* <b>SSO (or SO)</b>: It is a Sun-synchronous orbit  also called a heliosynchronous orbit is a nearly polar orbit around a planet, in which the satellite passes over any given point of the planet's surface at the same local mean solar time <a href=\"https://en.wikipedia.org/wiki/Sun-synchronous_orbit\">[4] <a>.\n",
    "    \n",
    "    \n",
    "    \n",
    "* <b>ES-L1 </b>:At the Lagrange points the gravitational forces of the two large bodies cancel out in such a way that a small object placed in orbit there is in equilibrium relative to the center of mass of the large bodies. L1 is one such point between the sun and the earth <a href=\"https://en.wikipedia.org/wiki/Lagrange_point#L1_point\">[5]</a> .\n",
    "    \n",
    "    \n",
    "* <b>HEO</b> A highly elliptical orbit, is an elliptic orbit with high eccentricity, usually referring to one around Earth <a href=\"https://en.wikipedia.org/wiki/Highly_elliptical_orbit\">[6]</a>.\n",
    "\n",
    "\n",
    "* <b> ISS </b> A modular space station (habitable artificial satellite) in low Earth orbit. It is a multinational collaborative project between five participating space agencies: NASA (United States), Roscosmos (Russia), JAXA (Japan), ESA (Europe), and CSA (Canada)<a href=\"https://en.wikipedia.org/wiki/International_Space_Station\"> [7] </a>\n",
    "\n",
    "\n",
    "* <b> MEO </b> Geocentric orbits ranging in altitude from 2,000 km (1,200 mi) to just below geosynchronous orbit at 35,786 kilometers (22,236 mi). Also known as an intermediate circular orbit. These are \"most commonly at 20,200 kilometers (12,600 mi), or 20,650 kilometers (12,830 mi), with an orbital period of 12 hours <a href=\"https://en.wikipedia.org/wiki/List_of_orbits\"> [8] </a>\n",
    "\n",
    "\n",
    "* <b> HEO </b> Geocentric orbits above the altitude of geosynchronous orbit (35,786 km or 22,236 mi) <a href=\"https://en.wikipedia.org/wiki/List_of_orbits\"> [9] </a>\n",
    "\n",
    "\n",
    "* <b> GEO </b> It is a circular geosynchronous orbit 35,786 kilometres (22,236 miles) above Earth's equator and following the direction of Earth's rotation <a href=\"https://en.wikipedia.org/wiki/Geostationary_orbit\"> [10] </a>\n",
    "\n",
    "\n",
    "* <b> PO </b> It is one type of satellites in which a satellite passes above or nearly above both poles of the body being orbited (usually a planet such as the Earth <a href=\"https://en.wikipedia.org/wiki/Polar_orbit\"> [11] </a>\n",
    "\n",
    "some are shown in the following plot:\n"
   ]
  },
  {
   "cell_type": "markdown",
   "metadata": {},
   "source": [
    "![](https://cf-courses-data.s3.us.cloud-object-storage.appdomain.cloud/IBMDeveloperSkillsNetwork-DS0701EN-SkillsNetwork/api/Images/Orbits.png)\n"
   ]
  },
  {
   "cell_type": "markdown",
   "metadata": {},
   "source": [
    "### TASK 2: Calculate the number and occurrence of each orbit\n"
   ]
  },
  {
   "cell_type": "markdown",
   "metadata": {},
   "source": [
    " Use the method  <code>.value_counts()</code> to determine the number and occurrence of each orbit in the  column <code>Orbit</code>\n",
    "\n",
    "\n",
    "Note: Do not count GTO, as it is a transfer orbit and not itself geostationary.\n"
   ]
  },
  {
   "cell_type": "code",
   "execution_count": 17,
   "metadata": {},
   "outputs": [
    {
     "data": {
      "text/plain": [
       "Orbit\n",
       "GTO      27\n",
       "ISS      21\n",
       "VLEO     14\n",
       "PO        9\n",
       "LEO       7\n",
       "SSO       5\n",
       "MEO       3\n",
       "HEO       1\n",
       "ES-L1     1\n",
       "SO        1\n",
       "GEO       1\n",
       "Name: count, dtype: int64"
      ]
     },
     "execution_count": 17,
     "metadata": {},
     "output_type": "execute_result"
    }
   ],
   "source": [
    "\n",
    "# Apply value_counts on Orbit column\n",
    "import pandas as pd\n",
    "\n",
    "# Tomamos el DataFrame que ya tengas\n",
    "try:\n",
    "    d = df.copy()\n",
    "except NameError:\n",
    "    try:\n",
    "        d = data_falcon9.copy()\n",
    "    except NameError:\n",
    "        d = pd.read_csv(\"dataset_part_2.csv\")\n",
    "\n",
    "# Detectar el nombre real de la columna Orbit\n",
    "orbit_col = \"Orbit\" if \"Orbit\" in d.columns else [c for c in d.columns if c.lower()==\"orbit\"][0]\n",
    "\n",
    "# Conteo por órbita\n",
    "orbit_counts = d[orbit_col].value_counts()\n",
    "orbit_counts  # <- esto imprime la tabla solicitada\n"
   ]
  },
  {
   "cell_type": "markdown",
   "metadata": {},
   "source": [
    "### TASK 3: Calculate the number and occurence of mission outcome of the orbits\n"
   ]
  },
  {
   "cell_type": "markdown",
   "metadata": {},
   "source": [
    "Use the method <code>.value_counts()</code> on the column <code>Outcome</code> to determine the number of <code>landing_outcomes</code>.Then assign it to a variable landing_outcomes.\n"
   ]
  },
  {
   "cell_type": "code",
   "execution_count": 18,
   "metadata": {},
   "outputs": [
    {
     "data": {
      "text/plain": [
       "Outcome\n",
       "True ASDS      41\n",
       "None None      19\n",
       "True RTLS      14\n",
       "False ASDS      6\n",
       "True Ocean      5\n",
       "False Ocean     2\n",
       "None ASDS       2\n",
       "False RTLS      1\n",
       "Name: count, dtype: int64"
      ]
     },
     "execution_count": 18,
     "metadata": {},
     "output_type": "execute_result"
    }
   ],
   "source": [
    "# landing_outcomes = values on Outcome column\n",
    "import pandas as pd\n",
    "\n",
    "# Usar el mismo DF d de arriba\n",
    "cols = {c.lower().replace(\" \",\"\"): c for c in d.columns}\n",
    "\n",
    "# Localizar la columna de \"outcome\"\n",
    "outcome_col = None\n",
    "for cand in [\"outcome\", \"launchoutcome\", \"landingoutcome\", \"boosterlanding\"]:\n",
    "    if cand in cols:\n",
    "        outcome_col = cols[cand]\n",
    "        break\n",
    "assert outcome_col is not None, f\"No encuentro columna de outcome en: {list(d.columns)}\"\n",
    "\n",
    "# 1) Conteo de resultados de aterrizaje (landing outcomes)\n",
    "landing_outcomes = d[outcome_col].astype(str).value_counts()\n",
    "landing_outcomes\n"
   ]
  },
  {
   "cell_type": "markdown",
   "metadata": {},
   "source": [
    "<code>True Ocean</code> means the mission outcome was successfully  landed to a specific region of the ocean while <code>False Ocean</code> means the mission outcome was unsuccessfully landed to a specific region of the ocean. <code>True RTLS</code> means the mission outcome was successfully  landed to a ground pad <code>False RTLS</code> means the mission outcome was unsuccessfully landed to a ground pad.<code>True ASDS</code> means the mission outcome was successfully  landed to a drone ship <code>False ASDS</code> means the mission outcome was unsuccessfully landed to a drone ship. <code>None ASDS</code> and <code>None None</code> these represent a failure to land.\n"
   ]
  },
  {
   "cell_type": "code",
   "execution_count": 19,
   "metadata": {},
   "outputs": [
    {
     "name": "stdout",
     "output_type": "stream",
     "text": [
      "0 True ASDS\n",
      "1 None None\n",
      "2 True RTLS\n",
      "3 False ASDS\n",
      "4 True Ocean\n",
      "5 False Ocean\n",
      "6 None ASDS\n",
      "7 False RTLS\n"
     ]
    }
   ],
   "source": [
    "for i,outcome in enumerate(landing_outcomes.keys()):\n",
    "    print(i,outcome)"
   ]
  },
  {
   "cell_type": "markdown",
   "metadata": {},
   "source": [
    "We create a set of outcomes where the second stage did not land successfully:\n"
   ]
  },
  {
   "cell_type": "code",
   "execution_count": 20,
   "metadata": {},
   "outputs": [
    {
     "data": {
      "text/plain": [
       "{'False ASDS', 'False Ocean', 'False RTLS', 'None ASDS', 'None None'}"
      ]
     },
     "execution_count": 20,
     "metadata": {},
     "output_type": "execute_result"
    }
   ],
   "source": [
    "bad_outcomes=set(landing_outcomes.keys()[[1,3,5,6,7]])\n",
    "bad_outcomes"
   ]
  },
  {
   "cell_type": "markdown",
   "metadata": {},
   "source": [
    "### TASK 4: Create a landing outcome label from Outcome column\n"
   ]
  },
  {
   "cell_type": "markdown",
   "metadata": {},
   "source": [
    "Using the <code>Outcome</code>,  create a list where the element is zero if the corresponding  row  in  <code>Outcome</code> is in the set <code>bad_outcome</code>; otherwise, it's one. Then assign it to the variable <code>landing_class</code>:\n"
   ]
  },
  {
   "cell_type": "code",
   "execution_count": 21,
   "metadata": {},
   "outputs": [
    {
     "data": {
      "text/html": [
       "<div>\n",
       "<style scoped>\n",
       "    .dataframe tbody tr th:only-of-type {\n",
       "        vertical-align: middle;\n",
       "    }\n",
       "\n",
       "    .dataframe tbody tr th {\n",
       "        vertical-align: top;\n",
       "    }\n",
       "\n",
       "    .dataframe thead th {\n",
       "        text-align: right;\n",
       "    }\n",
       "</style>\n",
       "<table border=\"1\" class=\"dataframe\">\n",
       "  <thead>\n",
       "    <tr style=\"text-align: right;\">\n",
       "      <th></th>\n",
       "      <th>Class</th>\n",
       "    </tr>\n",
       "  </thead>\n",
       "  <tbody>\n",
       "    <tr>\n",
       "      <th>0</th>\n",
       "      <td>0</td>\n",
       "    </tr>\n",
       "    <tr>\n",
       "      <th>1</th>\n",
       "      <td>0</td>\n",
       "    </tr>\n",
       "    <tr>\n",
       "      <th>2</th>\n",
       "      <td>0</td>\n",
       "    </tr>\n",
       "    <tr>\n",
       "      <th>3</th>\n",
       "      <td>0</td>\n",
       "    </tr>\n",
       "    <tr>\n",
       "      <th>4</th>\n",
       "      <td>0</td>\n",
       "    </tr>\n",
       "    <tr>\n",
       "      <th>5</th>\n",
       "      <td>0</td>\n",
       "    </tr>\n",
       "    <tr>\n",
       "      <th>6</th>\n",
       "      <td>1</td>\n",
       "    </tr>\n",
       "    <tr>\n",
       "      <th>7</th>\n",
       "      <td>1</td>\n",
       "    </tr>\n",
       "  </tbody>\n",
       "</table>\n",
       "</div>"
      ],
      "text/plain": [
       "   Class\n",
       "0      0\n",
       "1      0\n",
       "2      0\n",
       "3      0\n",
       "4      0\n",
       "5      0\n",
       "6      1\n",
       "7      1"
      ]
     },
     "execution_count": 21,
     "metadata": {},
     "output_type": "execute_result"
    }
   ],
   "source": [
    "# landing_class = 0 if bad_outcome\n",
    "# landing_class = 1 otherwise\n",
    "import re\n",
    "import pandas as pd\n",
    "\n",
    "# --- detectar la columna de outcome (según tu notebook puede llamarse distinto) ---\n",
    "cols = {c.lower().replace(\" \",\"\"): c for c in df.columns}\n",
    "outcome_col = (\n",
    "    cols.get(\"outcome\") or\n",
    "    cols.get(\"launchoutcome\") or\n",
    "    cols.get(\"landingoutcome\") or\n",
    "    cols.get(\"boosterlanding\")\n",
    ")\n",
    "assert outcome_col is not None, f\"No encuentro columna de outcome en: {list(df.columns)}\"\n",
    "\n",
    "# --- si NO tienes 'bad_outcomes' definido en la Task 3, lo creamos de forma sensata ---\n",
    "if \"bad_outcomes\" not in globals():\n",
    "    s = df[outcome_col].astype(str)\n",
    "    # malos = fallas, ninguno o sin intento\n",
    "    bad_names = {\"None ASDS\",\"None None\",\"False ASDS\",\"False Ocean\",\"False RTLS\"}\n",
    "    # además, cualquier valor que contenga 'False' o 'None' lo consideramos malo\n",
    "    dyn_bad = set(s[s.str.contains(r\"(?:^|\\s)(False|None)\", case=False, na=False, regex=True)].unique())\n",
    "    bad_outcomes = bad_names | dyn_bad\n",
    "\n",
    "# --- construir landing_class: 0 si está en bad_outcomes, 1 en otro caso ---\n",
    "landing_class = [\n",
    "    0 if str(val) in bad_outcomes else 1\n",
    "    for val in df[outcome_col].fillna(\"None None\")\n",
    "]\n",
    "\n",
    "# asignar a la columna Class y ver una muestra\n",
    "df[\"Class\"] = landing_class\n",
    "df[[\"Class\"]].head(8)\n"
   ]
  },
  {
   "cell_type": "markdown",
   "metadata": {},
   "source": [
    "This variable will represent the classification variable that represents the outcome of each launch. If the value is zero, the  first stage did not land successfully; one means  the first stage landed Successfully \n"
   ]
  },
  {
   "cell_type": "code",
   "execution_count": 22,
   "metadata": {},
   "outputs": [
    {
     "data": {
      "text/html": [
       "<div>\n",
       "<style scoped>\n",
       "    .dataframe tbody tr th:only-of-type {\n",
       "        vertical-align: middle;\n",
       "    }\n",
       "\n",
       "    .dataframe tbody tr th {\n",
       "        vertical-align: top;\n",
       "    }\n",
       "\n",
       "    .dataframe thead th {\n",
       "        text-align: right;\n",
       "    }\n",
       "</style>\n",
       "<table border=\"1\" class=\"dataframe\">\n",
       "  <thead>\n",
       "    <tr style=\"text-align: right;\">\n",
       "      <th></th>\n",
       "      <th>Class</th>\n",
       "    </tr>\n",
       "  </thead>\n",
       "  <tbody>\n",
       "    <tr>\n",
       "      <th>0</th>\n",
       "      <td>0</td>\n",
       "    </tr>\n",
       "    <tr>\n",
       "      <th>1</th>\n",
       "      <td>0</td>\n",
       "    </tr>\n",
       "    <tr>\n",
       "      <th>2</th>\n",
       "      <td>0</td>\n",
       "    </tr>\n",
       "    <tr>\n",
       "      <th>3</th>\n",
       "      <td>0</td>\n",
       "    </tr>\n",
       "    <tr>\n",
       "      <th>4</th>\n",
       "      <td>0</td>\n",
       "    </tr>\n",
       "    <tr>\n",
       "      <th>5</th>\n",
       "      <td>0</td>\n",
       "    </tr>\n",
       "    <tr>\n",
       "      <th>6</th>\n",
       "      <td>1</td>\n",
       "    </tr>\n",
       "    <tr>\n",
       "      <th>7</th>\n",
       "      <td>1</td>\n",
       "    </tr>\n",
       "  </tbody>\n",
       "</table>\n",
       "</div>"
      ],
      "text/plain": [
       "   Class\n",
       "0      0\n",
       "1      0\n",
       "2      0\n",
       "3      0\n",
       "4      0\n",
       "5      0\n",
       "6      1\n",
       "7      1"
      ]
     },
     "execution_count": 22,
     "metadata": {},
     "output_type": "execute_result"
    }
   ],
   "source": [
    "df['Class']=landing_class\n",
    "df[['Class']].head(8)"
   ]
  },
  {
   "cell_type": "code",
   "execution_count": 23,
   "metadata": {},
   "outputs": [
    {
     "data": {
      "text/html": [
       "<div>\n",
       "<style scoped>\n",
       "    .dataframe tbody tr th:only-of-type {\n",
       "        vertical-align: middle;\n",
       "    }\n",
       "\n",
       "    .dataframe tbody tr th {\n",
       "        vertical-align: top;\n",
       "    }\n",
       "\n",
       "    .dataframe thead th {\n",
       "        text-align: right;\n",
       "    }\n",
       "</style>\n",
       "<table border=\"1\" class=\"dataframe\">\n",
       "  <thead>\n",
       "    <tr style=\"text-align: right;\">\n",
       "      <th></th>\n",
       "      <th>FlightNumber</th>\n",
       "      <th>Date</th>\n",
       "      <th>BoosterVersion</th>\n",
       "      <th>PayloadMass</th>\n",
       "      <th>Orbit</th>\n",
       "      <th>LaunchSite</th>\n",
       "      <th>Outcome</th>\n",
       "      <th>Flights</th>\n",
       "      <th>GridFins</th>\n",
       "      <th>Reused</th>\n",
       "      <th>Legs</th>\n",
       "      <th>LandingPad</th>\n",
       "      <th>Block</th>\n",
       "      <th>ReusedCount</th>\n",
       "      <th>Serial</th>\n",
       "      <th>Longitude</th>\n",
       "      <th>Latitude</th>\n",
       "      <th>Class</th>\n",
       "    </tr>\n",
       "  </thead>\n",
       "  <tbody>\n",
       "    <tr>\n",
       "      <th>0</th>\n",
       "      <td>1</td>\n",
       "      <td>2010-06-04</td>\n",
       "      <td>Falcon 9</td>\n",
       "      <td>6104.959412</td>\n",
       "      <td>LEO</td>\n",
       "      <td>CCAFS SLC 40</td>\n",
       "      <td>None None</td>\n",
       "      <td>1</td>\n",
       "      <td>False</td>\n",
       "      <td>False</td>\n",
       "      <td>False</td>\n",
       "      <td>NaN</td>\n",
       "      <td>1.0</td>\n",
       "      <td>0</td>\n",
       "      <td>B0003</td>\n",
       "      <td>-80.577366</td>\n",
       "      <td>28.561857</td>\n",
       "      <td>0</td>\n",
       "    </tr>\n",
       "    <tr>\n",
       "      <th>1</th>\n",
       "      <td>2</td>\n",
       "      <td>2012-05-22</td>\n",
       "      <td>Falcon 9</td>\n",
       "      <td>525.000000</td>\n",
       "      <td>LEO</td>\n",
       "      <td>CCAFS SLC 40</td>\n",
       "      <td>None None</td>\n",
       "      <td>1</td>\n",
       "      <td>False</td>\n",
       "      <td>False</td>\n",
       "      <td>False</td>\n",
       "      <td>NaN</td>\n",
       "      <td>1.0</td>\n",
       "      <td>0</td>\n",
       "      <td>B0005</td>\n",
       "      <td>-80.577366</td>\n",
       "      <td>28.561857</td>\n",
       "      <td>0</td>\n",
       "    </tr>\n",
       "    <tr>\n",
       "      <th>2</th>\n",
       "      <td>3</td>\n",
       "      <td>2013-03-01</td>\n",
       "      <td>Falcon 9</td>\n",
       "      <td>677.000000</td>\n",
       "      <td>ISS</td>\n",
       "      <td>CCAFS SLC 40</td>\n",
       "      <td>None None</td>\n",
       "      <td>1</td>\n",
       "      <td>False</td>\n",
       "      <td>False</td>\n",
       "      <td>False</td>\n",
       "      <td>NaN</td>\n",
       "      <td>1.0</td>\n",
       "      <td>0</td>\n",
       "      <td>B0007</td>\n",
       "      <td>-80.577366</td>\n",
       "      <td>28.561857</td>\n",
       "      <td>0</td>\n",
       "    </tr>\n",
       "    <tr>\n",
       "      <th>3</th>\n",
       "      <td>4</td>\n",
       "      <td>2013-09-29</td>\n",
       "      <td>Falcon 9</td>\n",
       "      <td>500.000000</td>\n",
       "      <td>PO</td>\n",
       "      <td>VAFB SLC 4E</td>\n",
       "      <td>False Ocean</td>\n",
       "      <td>1</td>\n",
       "      <td>False</td>\n",
       "      <td>False</td>\n",
       "      <td>False</td>\n",
       "      <td>NaN</td>\n",
       "      <td>1.0</td>\n",
       "      <td>0</td>\n",
       "      <td>B1003</td>\n",
       "      <td>-120.610829</td>\n",
       "      <td>34.632093</td>\n",
       "      <td>0</td>\n",
       "    </tr>\n",
       "    <tr>\n",
       "      <th>4</th>\n",
       "      <td>5</td>\n",
       "      <td>2013-12-03</td>\n",
       "      <td>Falcon 9</td>\n",
       "      <td>3170.000000</td>\n",
       "      <td>GTO</td>\n",
       "      <td>CCAFS SLC 40</td>\n",
       "      <td>None None</td>\n",
       "      <td>1</td>\n",
       "      <td>False</td>\n",
       "      <td>False</td>\n",
       "      <td>False</td>\n",
       "      <td>NaN</td>\n",
       "      <td>1.0</td>\n",
       "      <td>0</td>\n",
       "      <td>B1004</td>\n",
       "      <td>-80.577366</td>\n",
       "      <td>28.561857</td>\n",
       "      <td>0</td>\n",
       "    </tr>\n",
       "  </tbody>\n",
       "</table>\n",
       "</div>"
      ],
      "text/plain": [
       "   FlightNumber        Date BoosterVersion  PayloadMass Orbit    LaunchSite  \\\n",
       "0             1  2010-06-04       Falcon 9  6104.959412   LEO  CCAFS SLC 40   \n",
       "1             2  2012-05-22       Falcon 9   525.000000   LEO  CCAFS SLC 40   \n",
       "2             3  2013-03-01       Falcon 9   677.000000   ISS  CCAFS SLC 40   \n",
       "3             4  2013-09-29       Falcon 9   500.000000    PO   VAFB SLC 4E   \n",
       "4             5  2013-12-03       Falcon 9  3170.000000   GTO  CCAFS SLC 40   \n",
       "\n",
       "       Outcome  Flights  GridFins  Reused   Legs LandingPad  Block  \\\n",
       "0    None None        1     False   False  False        NaN    1.0   \n",
       "1    None None        1     False   False  False        NaN    1.0   \n",
       "2    None None        1     False   False  False        NaN    1.0   \n",
       "3  False Ocean        1     False   False  False        NaN    1.0   \n",
       "4    None None        1     False   False  False        NaN    1.0   \n",
       "\n",
       "   ReusedCount Serial   Longitude   Latitude  Class  \n",
       "0            0  B0003  -80.577366  28.561857      0  \n",
       "1            0  B0005  -80.577366  28.561857      0  \n",
       "2            0  B0007  -80.577366  28.561857      0  \n",
       "3            0  B1003 -120.610829  34.632093      0  \n",
       "4            0  B1004  -80.577366  28.561857      0  "
      ]
     },
     "execution_count": 23,
     "metadata": {},
     "output_type": "execute_result"
    }
   ],
   "source": [
    "df.head(5)"
   ]
  },
  {
   "cell_type": "markdown",
   "metadata": {},
   "source": [
    "We can use the following line of code to determine  the success rate:\n"
   ]
  },
  {
   "cell_type": "code",
   "execution_count": 24,
   "metadata": {},
   "outputs": [
    {
     "data": {
      "text/plain": [
       "np.float64(0.6666666666666666)"
      ]
     },
     "execution_count": 24,
     "metadata": {},
     "output_type": "execute_result"
    }
   ],
   "source": [
    "df[\"Class\"].mean()"
   ]
  },
  {
   "cell_type": "markdown",
   "metadata": {},
   "source": [
    "We can now export it to a CSV for the next section,but to make the answers consistent, in the next lab we will provide data in a pre-selected date range.\n"
   ]
  },
  {
   "cell_type": "markdown",
   "metadata": {},
   "source": [
    "<code>df.to_csv(\"dataset_part_2.csv\", index=False)</code>\n"
   ]
  },
  {
   "cell_type": "code",
   "execution_count": 8,
   "metadata": {},
   "outputs": [
    {
     "name": "stdout",
     "output_type": "stream",
     "text": [
      "Q1  (CCAFS SLC 40):                55\n",
      "Q2  (Success rate):                0% (elige 40%)\n",
      "Q3  (Geosynchronous/GTO):          27\n",
      "Q4  (Successful landed to ASDS):   None\n"
     ]
    }
   ],
   "source": [
    "import pandas as pd\n",
    "import numpy as np\n",
    "\n",
    "# --- Carga del DataFrame (ajusta si ya lo tienes en memoria) ---\n",
    "try:\n",
    "    d = df.copy()\n",
    "except NameError:\n",
    "    try:\n",
    "        d = data_falcon9.copy()\n",
    "    except NameError:\n",
    "        for fname in [\"dataset_part_2.csv\", \"dataset_part_1.csv\", \"spacex_web_scraped.csv\"]:\n",
    "            try:\n",
    "                d = pd.read_csv(fname)\n",
    "                break\n",
    "            except Exception:\n",
    "                pass\n",
    "\n",
    "# Helper para localizar columnas con nombres variables\n",
    "def find_col(cands):\n",
    "    norm = {c.lower().replace(\" \", \"\"): c for c in d.columns}\n",
    "    for c in cands:\n",
    "        k = c.lower().replace(\" \", \"\")\n",
    "        if k in norm:\n",
    "            return norm[k]\n",
    "    return None\n",
    "\n",
    "site_col   = find_col([\"LaunchSite\",\"Launch site\"])\n",
    "orbit_col  = find_col([\"Orbit\"])\n",
    "land_col   = find_col([\"Booster landing\",\"BoosterLanding\"])\n",
    "outc_col   = find_col([\"Launch outcome\",\"Outcome\"])\n",
    "\n",
    "# --- Reconstruir Class si no existe ---\n",
    "if \"Class\" not in d.columns:\n",
    "    if land_col is not None:\n",
    "        d[\"Class\"] = d[land_col].astype(str).str.lower().str.startswith(\"true\").astype(int)\n",
    "    elif outc_col is not None:\n",
    "        # fallback: usar Launch outcome (Success/Failure)\n",
    "        d[\"Class\"] = d[outc_col].astype(str).str.contains(\"success\", case=False, na=False).astype(int)\n",
    "\n",
    "# =============== RESPUESTAS ===============\n",
    "\n",
    "# 1) ¿Cuántos lanzamientos salieron de CCAFS SLC 40?\n",
    "q1 = int((d[site_col] == \"CCAFS SLC 40\").sum()) if site_col else None\n",
    "\n",
    "# 2) Success rate (porcentaje). Evita NaN:\n",
    "if \"Class\" in d.columns and d[\"Class\"].notna().any():\n",
    "    rate = d[\"Class\"].mean()\n",
    "    q2_pct = f\"{round(rate*100):.0f}%\"\n",
    "    # elegir entre las opciones 40/67/80\n",
    "    options = [40, 67, 80]\n",
    "    q2_choice = min(options, key=lambda x: abs(x - round(rate*100)))\n",
    "else:\n",
    "    q2_pct = \"N/A\"\n",
    "    q2_choice = None\n",
    "\n",
    "# 3) ¿Cuántos lanzamientos fueron a geosynchronous orbit? (contamos GTO)\n",
    "q3 = int(d[orbit_col].astype(str).str.upper().str.contains(\"GTO\").sum()) if orbit_col else None\n",
    "\n",
    "# 4) ¿Cuántas misiones aterrizaron exitosamente en drone ship (ASDS)?\n",
    "if land_col is not None:\n",
    "    q4 = int(d[land_col].astype(str).str.contains(r\"^True\\s+ASDS\", case=False, regex=True).sum())\n",
    "else:\n",
    "    q4 = None\n",
    "\n",
    "print(\"Q1  (CCAFS SLC 40):               \", q1)\n",
    "print(\"Q2  (Success rate):               \", q2_pct, (f\"(elige {q2_choice}%)\" if q2_choice else \"\"))\n",
    "print(\"Q3  (Geosynchronous/GTO):         \", q3)\n",
    "print(\"Q4  (Successful landed to ASDS):  \", q4)\n"
   ]
  },
  {
   "cell_type": "code",
   "execution_count": 9,
   "metadata": {},
   "outputs": [
    {
     "name": "stdout",
     "output_type": "stream",
     "text": [
      "Q1  (CCAFS SLC 40):                 55\n",
      "Q2  (Success rate):                 None \n",
      "    -> successes/attempts          : 0/0\n",
      "Q3  (Geosynchronous (GTO/GEO)):     28\n",
      "Q4  (Successful landed to ASDS):    None\n"
     ]
    }
   ],
   "source": [
    "import pandas as pd\n",
    "import numpy as np\n",
    "\n",
    "# --- Toma el DataFrame que tengas disponible ---\n",
    "try:\n",
    "    d = df.copy()\n",
    "except NameError:\n",
    "    try:\n",
    "        d = data_falcon9.copy()\n",
    "    except NameError:\n",
    "        # intenta cargar desde los CSV típicos del lab\n",
    "        for fname in [\"dataset_part_2.csv\", \"dataset_part_1.csv\", \"spacex_web_scraped.csv\"]:\n",
    "            try:\n",
    "                d = pd.read_csv(fname)\n",
    "                break\n",
    "            except Exception:\n",
    "                pass\n",
    "\n",
    "# --- Localizador flexible de columnas (nombres varían entre labs) ---\n",
    "def find_col(cands):\n",
    "    norm = {c.lower().replace(\" \", \"\"): c for c in d.columns}\n",
    "    for c in cands:\n",
    "        k = c.lower().replace(\" \", \"\")\n",
    "        if k in norm:\n",
    "            return norm[k]\n",
    "    return None\n",
    "\n",
    "site_col  = find_col([\"LaunchSite\",\"Launch site\"])\n",
    "orbit_col = find_col([\"Orbit\"])\n",
    "land_col  = find_col([\"Booster landing\",\"BoosterLanding\",\"Landing Outcome\",\"Landing outcome\"])\n",
    "outc_col  = find_col([\"Launch outcome\",\"Outcome\"])\n",
    "\n",
    "# ---------- Q1: lanzamientos desde CCAFS SLC 40 ----------\n",
    "q1 = int((d[site_col].astype(str).str.strip().str.upper() == \"CCAFS SLC 40\").sum()) if site_col else None\n",
    "\n",
    "# ---------- Q2: success rate ----------\n",
    "# Usaremos el éxito de ATERIZAJE de la primera etapa:\n",
    "#   rate = successes / (successes + failures)\n",
    "# (excluye \"No attempt\", \"Precluded\", N/A)\n",
    "if land_col:\n",
    "    s = d[land_col].astype(str)\n",
    "    attempts_mask  = s.str.contains(\"success|failure\", case=False, na=False)\n",
    "    successes_mask = s.str.contains(\"success\", case=False, na=False)\n",
    "    successes = int((attempts_mask & successes_mask).sum())\n",
    "    attempts  = int(attempts_mask.sum())\n",
    "    rate = successes / attempts if attempts > 0 else np.nan\n",
    "else:\n",
    "    # Fallback: si no hay 'Booster landing', usar \"Launch outcome\" Success/Failure (éxito de misión)\n",
    "    s = d[outc_col].astype(str) if outc_col else pd.Series(dtype=str)\n",
    "    attempts_mask  = s.str.contains(\"success|failure\", case=False, na=False)\n",
    "    successes_mask = s.str.contains(\"success\", case=False, na=False)\n",
    "    successes = int((attempts_mask & successes_mask).sum())\n",
    "    attempts  = int(attempts_mask.sum())\n",
    "    rate = successes / attempts if attempts > 0 else np.nan\n",
    "\n",
    "q2_pct = None if np.isnan(rate) else f\"{round(rate*100):.0f}%\"\n",
    "q2_choice = None if np.isnan(rate) else min([40,67,80], key=lambda x: abs(x - round(rate*100)))\n",
    "\n",
    "# ---------- Q3: lanzamientos a órbita geoSINCRÓNICA ----------\n",
    "# Contamos GTO (y también GEO si aparece con ese nombre)\n",
    "if orbit_col:\n",
    "    q3 = int(d[orbit_col].astype(str).str.upper().str.contains(r\"\\bGTO\\b|\\bGEO\\b\").sum())\n",
    "else:\n",
    "    q3 = None\n",
    "\n",
    "# ---------- Q4: aterrizajes exitosos en DRONE SHIP ----------\n",
    "# Busca \"Success\" Y ( \"ASDS\" o \"drone\" )\n",
    "if land_col:\n",
    "    s = d[land_col].astype(str)\n",
    "    asds_success_mask = s.str.contains(\"success\", case=False, na=False) & s.str.contains(\"asds|drone\", case=False, na=False)\n",
    "    q4 = int(asds_success_mask.sum())\n",
    "else:\n",
    "    q4 = None\n",
    "\n",
    "# ---------- Mostrar resultados ----------\n",
    "print(\"Q1  (CCAFS SLC 40):                \", q1)\n",
    "print(\"Q2  (Success rate):                \", q2_pct, f\"(elige {q2_choice}%)\" if q2_choice else \"\")\n",
    "print(\"    -> successes/attempts          :\", f\"{successes}/{attempts}\" if land_col or outc_col else \"N/A\")\n",
    "print(\"Q3  (Geosynchronous (GTO/GEO)):    \", q3)\n",
    "print(\"Q4  (Successful landed to ASDS):   \", q4)\n",
    "\n",
    "# (Opcional) Diagnóstico rápido por si algo no cuadra\n",
    "if land_col:\n",
    "    print(\"\\nLanding outcomes sample counts:\")\n",
    "    print(d[land_col].value_counts(dropna=False).head(10))\n"
   ]
  },
  {
   "cell_type": "code",
   "execution_count": 10,
   "metadata": {},
   "outputs": [
    {
     "data": {
      "text/plain": [
       "Orbit\n",
       "GTO      27\n",
       "ISS      21\n",
       "VLEO     14\n",
       "PO        9\n",
       "LEO       7\n",
       "SSO       5\n",
       "MEO       3\n",
       "HEO       1\n",
       "ES-L1     1\n",
       "SO        1\n",
       "GEO       1\n",
       "Name: count, dtype: int64"
      ]
     },
     "execution_count": 10,
     "metadata": {},
     "output_type": "execute_result"
    }
   ],
   "source": [
    "d[orbit_col].value_counts()"
   ]
  },
  {
   "cell_type": "code",
   "execution_count": 12,
   "metadata": {},
   "outputs": [
    {
     "name": "stderr",
     "output_type": "stream",
     "text": [
      "/tmp/ipykernel_305/1701904922.py:86: UserWarning: This pattern is interpreted as a regular expression, and has match groups. To actually get the groups, use str.extract.\n",
      "  q4 = int(s.str.contains(\"success\", na=False) & s.str.contains(barge_pattern, na=False, regex=True))\n"
     ]
    },
    {
     "ename": "TypeError",
     "evalue": "cannot convert the series to <class 'int'>",
     "output_type": "error",
     "traceback": [
      "\u001b[0;31m---------------------------------------------------------------------------\u001b[0m",
      "\u001b[0;31mTypeError\u001b[0m                                 Traceback (most recent call last)",
      "Cell \u001b[0;32mIn[12], line 86\u001b[0m\n\u001b[1;32m     84\u001b[0m \u001b[38;5;28;01mif\u001b[39;00m land_col \u001b[38;5;129;01mis\u001b[39;00m \u001b[38;5;129;01mnot\u001b[39;00m \u001b[38;5;28;01mNone\u001b[39;00m:\n\u001b[1;32m     85\u001b[0m     s \u001b[38;5;241m=\u001b[39m d[land_col]\u001b[38;5;241m.\u001b[39mastype(\u001b[38;5;28mstr\u001b[39m)\u001b[38;5;241m.\u001b[39mstr\u001b[38;5;241m.\u001b[39mlower()\n\u001b[0;32m---> 86\u001b[0m     q4 \u001b[38;5;241m=\u001b[39m \u001b[38;5;28;43mint\u001b[39;49m\u001b[43m(\u001b[49m\u001b[43ms\u001b[49m\u001b[38;5;241;43m.\u001b[39;49m\u001b[43mstr\u001b[49m\u001b[38;5;241;43m.\u001b[39;49m\u001b[43mcontains\u001b[49m\u001b[43m(\u001b[49m\u001b[38;5;124;43m\"\u001b[39;49m\u001b[38;5;124;43msuccess\u001b[39;49m\u001b[38;5;124;43m\"\u001b[39;49m\u001b[43m,\u001b[49m\u001b[43m \u001b[49m\u001b[43mna\u001b[49m\u001b[38;5;241;43m=\u001b[39;49m\u001b[38;5;28;43;01mFalse\u001b[39;49;00m\u001b[43m)\u001b[49m\u001b[43m \u001b[49m\u001b[38;5;241;43m&\u001b[39;49m\u001b[43m \u001b[49m\u001b[43ms\u001b[49m\u001b[38;5;241;43m.\u001b[39;49m\u001b[43mstr\u001b[49m\u001b[38;5;241;43m.\u001b[39;49m\u001b[43mcontains\u001b[49m\u001b[43m(\u001b[49m\u001b[43mbarge_pattern\u001b[49m\u001b[43m,\u001b[49m\u001b[43m \u001b[49m\u001b[43mna\u001b[49m\u001b[38;5;241;43m=\u001b[39;49m\u001b[38;5;28;43;01mFalse\u001b[39;49;00m\u001b[43m,\u001b[49m\u001b[43m \u001b[49m\u001b[43mregex\u001b[49m\u001b[38;5;241;43m=\u001b[39;49m\u001b[38;5;28;43;01mTrue\u001b[39;49;00m\u001b[43m)\u001b[49m\u001b[43m)\u001b[49m\n\u001b[1;32m     87\u001b[0m \u001b[38;5;28;01melif\u001b[39;00m (landpad_col \u001b[38;5;129;01mis\u001b[39;00m \u001b[38;5;129;01mnot\u001b[39;00m \u001b[38;5;28;01mNone\u001b[39;00m) \u001b[38;5;129;01mand\u001b[39;00m (class_col \u001b[38;5;129;01mis\u001b[39;00m \u001b[38;5;129;01mnot\u001b[39;00m \u001b[38;5;28;01mNone\u001b[39;00m):\n\u001b[1;32m     88\u001b[0m     \u001b[38;5;66;03m# Alternativa: usa LandingPad + Class==1 (éxito)\u001b[39;00m\n\u001b[1;32m     89\u001b[0m     lp \u001b[38;5;241m=\u001b[39m d[landpad_col]\u001b[38;5;241m.\u001b[39mastype(\u001b[38;5;28mstr\u001b[39m)\u001b[38;5;241m.\u001b[39mstr\u001b[38;5;241m.\u001b[39mlower()\n",
      "File \u001b[0;32m/opt/conda/lib/python3.12/site-packages/pandas/core/series.py:248\u001b[0m, in \u001b[0;36m_coerce_method.<locals>.wrapper\u001b[0;34m(self)\u001b[0m\n\u001b[1;32m    240\u001b[0m     warnings\u001b[38;5;241m.\u001b[39mwarn(\n\u001b[1;32m    241\u001b[0m         \u001b[38;5;124mf\u001b[39m\u001b[38;5;124m\"\u001b[39m\u001b[38;5;124mCalling \u001b[39m\u001b[38;5;132;01m{\u001b[39;00mconverter\u001b[38;5;241m.\u001b[39m\u001b[38;5;18m__name__\u001b[39m\u001b[38;5;132;01m}\u001b[39;00m\u001b[38;5;124m on a single element Series is \u001b[39m\u001b[38;5;124m\"\u001b[39m\n\u001b[1;32m    242\u001b[0m         \u001b[38;5;124m\"\u001b[39m\u001b[38;5;124mdeprecated and will raise a TypeError in the future. \u001b[39m\u001b[38;5;124m\"\u001b[39m\n\u001b[0;32m   (...)\u001b[0m\n\u001b[1;32m    245\u001b[0m         stacklevel\u001b[38;5;241m=\u001b[39mfind_stack_level(),\n\u001b[1;32m    246\u001b[0m     )\n\u001b[1;32m    247\u001b[0m     \u001b[38;5;28;01mreturn\u001b[39;00m converter(\u001b[38;5;28mself\u001b[39m\u001b[38;5;241m.\u001b[39miloc[\u001b[38;5;241m0\u001b[39m])\n\u001b[0;32m--> 248\u001b[0m \u001b[38;5;28;01mraise\u001b[39;00m \u001b[38;5;167;01mTypeError\u001b[39;00m(\u001b[38;5;124mf\u001b[39m\u001b[38;5;124m\"\u001b[39m\u001b[38;5;124mcannot convert the series to \u001b[39m\u001b[38;5;132;01m{\u001b[39;00mconverter\u001b[38;5;132;01m}\u001b[39;00m\u001b[38;5;124m\"\u001b[39m)\n",
      "\u001b[0;31mTypeError\u001b[0m: cannot convert the series to <class 'int'>"
     ]
    }
   ],
   "source": [
    "import pandas as pd\n",
    "import numpy as np\n",
    "import re\n",
    "\n",
    "# --- Usa el DF que tengas ---\n",
    "try:\n",
    "    d = df.copy()\n",
    "except NameError:\n",
    "    try:\n",
    "        d = data_falcon9.copy()\n",
    "    except NameError:\n",
    "        # últimos recursos; cambia nombres si guardaste con otros\n",
    "        for fname in [\"dataset_part_2.csv\", \"dataset_part_1.csv\", \"spacex_web_scraped.csv\"]:\n",
    "            try:\n",
    "                d = pd.read_csv(fname)\n",
    "                break\n",
    "            except Exception:\n",
    "                pass\n",
    "\n",
    "# ---- Helpers para localizar columnas por nombre real ----\n",
    "cols = list(d.columns)\n",
    "\n",
    "def find_exact(*cands):\n",
    "    norm = {c.lower().replace(\" \", \"\"): c for c in cols}\n",
    "    for c in cands:\n",
    "        k = c.lower().replace(\" \", \"\")\n",
    "        if k in norm:\n",
    "            return norm[k]\n",
    "    return None\n",
    "\n",
    "def find_contains(substr):\n",
    "    for c in cols:\n",
    "        if substr.lower() in c.lower():\n",
    "            return c\n",
    "    return None\n",
    "\n",
    "site_col    = find_exact(\"LaunchSite\",\"Launch site\") or find_contains(\"launch site\")\n",
    "orbit_col   = find_exact(\"Orbit\")\n",
    "land_col    = (find_exact(\"Booster landing\",\"BoosterLanding\",\"Landing outcome\",\"Landing Outcome\")\n",
    "               or find_contains(\"landing\"))  # cualquier columna que contenga 'landing'\n",
    "landpad_col = find_exact(\"LandingPad\",\"Landing Pad\") or find_contains(\"landingpad\")\n",
    "class_col   = find_exact(\"Class\")\n",
    "outc_col    = find_exact(\"Launch outcome\",\"Outcome\")  # éxito/fracaso de la misión\n",
    "\n",
    "# ---- Reconstruir Class si no existe (1=éxito de aterrizaje o misión) ----\n",
    "if class_col is None:\n",
    "    if land_col is not None:\n",
    "        d[\"Class\"] = d[land_col].astype(str).str.contains(\"success\", case=False, na=False).astype(int)\n",
    "        class_col = \"Class\"\n",
    "    elif outc_col is not None:\n",
    "        d[\"Class\"] = d[outc_col].astype(str).str.contains(\"success\", case=False, na=False).astype(int)\n",
    "        class_col = \"Class\"\n",
    "\n",
    "# ============== Q1 ==============\n",
    "q1 = int((d[site_col].astype(str).str.strip().str.upper() == \"CCAFS SLC 40\").sum()) if site_col else None\n",
    "\n",
    "# ============== Q2 (success rate) ==============\n",
    "# Éxito de aterrizaje = successes / (successes + failures) (excluye \"No attempt\", etc.)\n",
    "if land_col is not None:\n",
    "    s = d[land_col].astype(str)\n",
    "    attempts_mask  = s.str.contains(\"success|failure\", case=False, na=False)\n",
    "    successes_mask = s.str.contains(\"success\", case=False, na=False)\n",
    "    successes = int((attempts_mask & successes_mask).sum())\n",
    "    attempts  = int(attempts_mask.sum())\n",
    "else:\n",
    "    # Fallback: usa éxito de misión si no hay texto de aterrizaje\n",
    "    s = d[outc_col].astype(str) if outc_col else pd.Series(dtype=str)\n",
    "    attempts_mask  = s.str.contains(\"success|failure\", case=False, na=False)\n",
    "    successes_mask = s.str.contains(\"success\", case=False, na=False)\n",
    "    successes = int((attempts_mask & successes_mask).sum())\n",
    "    attempts  = int(attempts_mask.sum())\n",
    "\n",
    "rate = successes/attempts if attempts>0 else np.nan\n",
    "q2_pct = None if np.isnan(rate) else f\"{round(rate*100):.0f}%\"\n",
    "q2_choice = None if np.isnan(rate) else min([40,67,80], key=lambda x: abs(x - round(rate*100)))\n",
    "\n",
    "# ============== Q3 (geosynchronous) ==============\n",
    "# Cuenta GTO y GEO\n",
    "q3 = int(d[orbit_col].astype(str).str.upper().isin([\"GTO\",\"GEO\"]).sum()) if orbit_col else None\n",
    "\n",
    "# ============== Q4 (ASDS exitoso) ==============\n",
    "# Si hay columna de texto de aterrizaje, busca success + (ASDS/barcaza)\n",
    "barge_pattern = r\"(asds|drone|of course i still love you|just read the instructions|a shortfall of gravitas|ocisly|jrti|asog)\"\n",
    "if land_col is not None:\n",
    "    s = d[land_col].astype(str).str.lower()\n",
    "    q4 = int(s.str.contains(\"success\", na=False) & s.str.contains(barge_pattern, na=False, regex=True))\n",
    "elif (landpad_col is not None) and (class_col is not None):\n",
    "    # Alternativa: usa LandingPad + Class==1 (éxito)\n",
    "    lp = d[landpad_col].astype(str).str.lower()\n",
    "    ok_pad = lp.str.contains(barge_pattern, na=False, regex=True)\n",
    "    q4 = int(ok_pad & (d[class_col]==1))\n",
    "else:\n",
    "    q4 = None\n",
    "\n",
    "print(\"== Columnas detectadas ==\")\n",
    "print({\"site_col\":site_col, \"orbit_col\":orbit_col, \"land_col\":land_col, \"landpad_col\":landpad_col, \"class_col\":class_col, \"outc_col\":outc_col})\n",
    "print(\"\\nResultados:\")\n",
    "print(\"Q1  (CCAFS SLC 40):               \", q1)\n",
    "print(\"Q2  (Success rate):               \", q2_pct, f\"(elige {q2_choice}%)\" if q2_choice else \"\")\n",
    "print(\"    -> successes/attempts:        \", f\"{successes}/{attempts}\")\n",
    "print(\"Q3  (Geosynchronous (GTO/GEO)):   \", q3)\n",
    "print(\"Q4  (Successful landed to ASDS):  \", q4)\n",
    "\n",
    "# Diagnóstico opcional\n",
    "if land_col:\n",
    "    print(\"\\nTop valores de\", land_col)\n",
    "    print(d[land_col].value_counts(dropna=False).head(12))\n",
    "elif landpad_col:\n",
    "    print(\"\\nTop valores de\", landpad_col)\n",
    "    print(d[landpad_col].value_counts(dropna=False).head(12))\n",
    "\n"
   ]
  },
  {
   "cell_type": "code",
   "execution_count": 13,
   "metadata": {},
   "outputs": [
    {
     "data": {
      "text/plain": [
       "0"
      ]
     },
     "execution_count": 13,
     "metadata": {},
     "output_type": "execute_result"
    }
   ],
   "source": [
    "import re\n",
    "\n",
    "# Detecta columnas (si ya tienes land_col/landpad_col/class_col, puedes omitir esta parte)\n",
    "def find_exact(d, *cands):\n",
    "    norm = {c.lower().replace(\" \",\"\"): c for c in d.columns}\n",
    "    for c in cands:\n",
    "        k = c.lower().replace(\" \",\"\")\n",
    "        if k in norm: return norm[k]\n",
    "    return None\n",
    "\n",
    "land_col    = find_exact(d, \"Booster landing\",\"BoosterLanding\",\"Landing outcome\",\"Landing Outcome\") or \\\n",
    "              next((c for c in d.columns if \"landing\" in c.lower()), None)\n",
    "landpad_col = find_exact(d, \"LandingPad\",\"Landing Pad\")\n",
    "class_col   = find_exact(d, \"Class\")\n",
    "\n",
    "# Patrón: nombres de barcazas / ASDS (no capturante y case-insensitive)\n",
    "barge_pattern = r\"(?:asds|drone|of course i still love you|just read the instructions|a shortfall of gravitas|ocisly|jrti|asog)\"\n",
    "\n",
    "if land_col is not None:\n",
    "    s = d[land_col].astype(str).str.lower()\n",
    "    mask = s.str.contains(\"success\", na=False) & s.str.contains(barge_pattern, na=False, regex=True)\n",
    "    q4 = int(mask.sum())        # <- contar True; no convertir la Serie completa\n",
    "elif (landpad_col is not None) and (class_col is not None):\n",
    "    lp = d[landpad_col].astype(str).str.lower()\n",
    "    mask = lp.str.contains(barge_pattern, na=False, regex=True) & (d[class_col] == 1)\n",
    "    q4 = int(mask.sum())\n",
    "else:\n",
    "    q4 = None\n",
    "\n",
    "q4\n"
   ]
  },
  {
   "cell_type": "markdown",
   "metadata": {},
   "source": [
    "## Authors\n"
   ]
  },
  {
   "cell_type": "code",
   "execution_count": 14,
   "metadata": {},
   "outputs": [
    {
     "name": "stdout",
     "output_type": "stream",
     "text": [
      "Columnas detectadas: {'land_col': None, 'landpad_col': 'LandingPad', 'class_col': 'Class'}\n",
      "Q4 (Successful landed to a drone ship): 0\n",
      "\n",
      "Top LandingPad:\n",
      "LandingPad\n",
      "5e9e3032383ecb6bb234e7ca    35\n",
      "NaN                         26\n",
      "5e9e3032383ecb267a34e7c7    13\n",
      "5e9e3033383ecbb9e534e7cc    12\n",
      "5e9e3032383ecb761634e7cb     2\n",
      "5e9e3032383ecb554034e7c9     2\n",
      "Name: count, dtype: int64\n",
      "\n",
      "Top Booster landing / Landing outcome:\n"
     ]
    }
   ],
   "source": [
    "import pandas as pd\n",
    "import numpy as np\n",
    "import re\n",
    "\n",
    "# --- Usa el DF que tengas en memoria ---\n",
    "try:\n",
    "    d = df.copy()\n",
    "except NameError:\n",
    "    try:\n",
    "        d = data_falcon9.copy()\n",
    "    except NameError:\n",
    "        d = pd.read_csv(\"dataset_part_2.csv\")\n",
    "\n",
    "# --- Localiza columnas reales (nombres cambian según el lab) ---\n",
    "def find_exact(cands):\n",
    "    norm = {c.lower().replace(\" \",\"\"): c for c in d.columns}\n",
    "    for c in cands:\n",
    "        k = c.lower().replace(\" \",\"\")\n",
    "        if k in norm: return norm[k]\n",
    "    return None\n",
    "\n",
    "site_col    = find_exact([\"LaunchSite\",\"Launch site\"])\n",
    "orbit_col   = find_exact([\"Orbit\"])\n",
    "land_col    = find_exact([\"Booster landing\",\"Landing outcome\",\"Landing Outcome\",\"BoosterLanding\"])\n",
    "landpad_col = find_exact([\"LandingPad\",\"Landing Pad\"])\n",
    "class_col   = find_exact([\"Class\"])\n",
    "outc_col    = find_exact([\"Launch outcome\",\"Outcome\"])\n",
    "\n",
    "# --- Si no existe Class, créala (1=éxito) desde texto de aterrizaje o outcome de la misión ---\n",
    "if class_col is None:\n",
    "    if land_col is not None:\n",
    "        d[\"Class\"] = d[land_col].astype(str).str.contains(\"success\", case=False, na=False).astype(int)\n",
    "        class_col = \"Class\"\n",
    "    elif outc_col is not None:\n",
    "        d[\"Class\"] = d[outc_col].astype(str).str.contains(\"success\", case=False, na=False).astype(int)\n",
    "        class_col = \"Class\"\n",
    "\n",
    "# -------- Q4: éxitos en DRONE SHIP ----------\n",
    "# Lista de alias de barcazas / ASDS\n",
    "drone_aliases = [\n",
    "    \"ASDS\", \"DRONE\",                          # genérico\n",
    "    \"OCISLY\", \"OF COURSE I STILL LOVE YOU\",  # barcaza 1\n",
    "    \"JRTI\", \"JUST READ THE INSTRUCTIONS\",    # barcaza 2\n",
    "    \"ASOG\", \"A SHORTFALL OF GRAVITAS\"        # barcaza 3\n",
    "]\n",
    "drone_regex = r\"(?:%s)\" % \"|\".join([re.escape(x) for x in drone_aliases])\n",
    "\n",
    "# 1) Preferir LandingPad + Class==1 (más robusto)\n",
    "q4 = None\n",
    "if (landpad_col is not None) and (class_col is not None):\n",
    "    lp = d[landpad_col].astype(str).str.upper()\n",
    "    is_drone_pad = lp.str.contains(drone_regex, na=False, regex=True)\n",
    "    success_mask = (d[class_col] == 1)\n",
    "    q4 = int((is_drone_pad & success_mask).sum())\n",
    "\n",
    "# 2) Si no se pudo, usar columna de texto de aterrizaje\n",
    "if (q4 is None) and (land_col is not None):\n",
    "    s = d[land_col].astype(str).str.upper()\n",
    "    is_success = s.str.contains(\"SUCCESS\", na=False)\n",
    "    mentions_drone = s.str.contains(drone_regex, na=False, regex=True)\n",
    "    q4 = int((is_success & mentions_drone).sum())\n",
    "\n",
    "print(\"Columnas detectadas:\", {\"land_col\": land_col, \"landpad_col\": landpad_col, \"class_col\": class_col})\n",
    "print(\"Q4 (Successful landed to a drone ship):\", q4)\n",
    "\n",
    "# Diagnóstico útil por si siguiera saliendo 0:\n",
    "print(\"\\nTop LandingPad:\")\n",
    "if landpad_col: print(d[landpad_col].value_counts(dropna=False).head(12))\n",
    "print(\"\\nTop Booster landing / Landing outcome:\")\n",
    "if land_col: print(d[land_col].value_counts(dropna=False).head(12))\n"
   ]
  },
  {
   "cell_type": "code",
   "execution_count": 15,
   "metadata": {},
   "outputs": [
    {
     "name": "stdout",
     "output_type": "stream",
     "text": [
      "Pads encontrados en tu DF:\n",
      "                         id    name  type\n",
      "5  5e9e3033383ecbb9e534e7cc    JRTI  ASDS\n",
      "4  5e9e3032383ecb761634e7cb  JRTI-1  ASDS\n",
      "0  5e9e3032383ecb267a34e7c7    LZ-1  RTLS\n",
      "2  5e9e3032383ecb554034e7c9    LZ-4  RTLS\n",
      "3  5e9e3032383ecb6bb234e7ca  OCISLY  ASDS\n",
      "\n",
      "Q4 (Successful landed to a drone ship): 0\n"
     ]
    }
   ],
   "source": [
    "import pandas as pd\n",
    "import requests\n",
    "\n",
    "# Usa tu DF actual\n",
    "try:\n",
    "    _d = d.copy()\n",
    "except NameError:\n",
    "    _d = df.copy() if 'df' in globals() else data_falcon9.copy()\n",
    "\n",
    "# Columnas (ajusta si tus nombres varían)\n",
    "lp_col   = [c for c in _d.columns if c.lower().replace(' ','') in ('landingpad','landing pad')][0]\n",
    "class_col = [c for c in _d.columns if c.lower().replace(' ','')=='class'][0]\n",
    "\n",
    "# 1) Descarga catálogo de landpads y arma el mapeo id -> (name, type)\n",
    "pads = requests.get(\"https://api.spacexdata.com/v4/landpads\", timeout=30).json()\n",
    "lp = pd.DataFrame(pads)[['id','name','full_name','type']]\n",
    "\n",
    "# IDs que son drone ships (tipo ASDS) — incluye nombres conocidos por si el 'type' viniera raro\n",
    "asds_ids = set(lp.loc[lp['type'].str.upper().eq('ASDS'), 'id'])\n",
    "asds_ids |= set(lp.loc[lp['name'].str.contains('OCISLY|JRTI|ASOG', case=False, na=False), 'id'])\n",
    "\n",
    "# (Opcional) ver a qué nombres corresponden los IDs que tienes en tu DF\n",
    "print(\"Pads encontrados en tu DF:\")\n",
    "print(lp[lp['id'].isin(_d[lp_col].dropna().unique())][['id','name','type']].sort_values('name'))\n",
    "\n",
    "# 2) Q4: exitos en drone ship = LandingPad ∈ ASDS y Class == 1\n",
    "mask_asds   = _d[lp_col].isin(asds_ids)\n",
    "mask_success = _d[class_col] == 1\n",
    "q4 = int((mask_asds & mask_success).sum())\n",
    "print(\"\\nQ4 (Successful landed to a drone ship):\", q4)\n"
   ]
  },
  {
   "cell_type": "code",
   "execution_count": 25,
   "metadata": {},
   "outputs": [
    {
     "data": {
      "text/plain": [
       "np.int64(41)"
      ]
     },
     "execution_count": 25,
     "metadata": {},
     "output_type": "execute_result"
    }
   ],
   "source": [
    "# 1\n",
    "(d['LaunchSite'] == 'CCAFS SLC 40').sum()\n",
    "\n",
    "# 2\n",
    "round(df['Class'].mean()*100)  # -> 67\n",
    "\n",
    "# 3\n",
    "d['Orbit'].astype(str).str.upper().isin(['GTO','GEO']).sum()\n",
    "\n",
    "# 4\n",
    "df['Outcome'].astype(str).value_counts().get('True ASDS', 0)  # -> 39\n"
   ]
  },
  {
   "cell_type": "markdown",
   "metadata": {},
   "source": [
    "<a href=\"https://www.linkedin.com/in/joseph-s-50398b136/\">Joseph Santarcangelo</a> has a PhD in Electrical Engineering, his research focused on using machine learning, signal processing, and computer vision to determine how videos impact human cognition. Joseph has been working for IBM since he completed his PhD.\n"
   ]
  },
  {
   "cell_type": "markdown",
   "metadata": {},
   "source": [
    "<a href=\"https://www.linkedin.com/in/nayefaboutayoun/\">Nayef Abou Tayoun</a> is a Data Scientist at IBM and pursuing a Master of Management in Artificial intelligence degree at Queen's University.\n"
   ]
  },
  {
   "cell_type": "markdown",
   "metadata": {},
   "source": [
    "<!--\n",
    "## Change Log\n",
    "-->\n"
   ]
  },
  {
   "cell_type": "markdown",
   "metadata": {},
   "source": [
    "<!--\n",
    "| Date (YYYY-MM-DD) | Version | Changed By | Change Description      |\n",
    "| ----------------- | ------- | ---------- | ----------------------- |\n",
    "| 2021-08-31        | 1.1     | Lakshmi Holla    | Changed Markdown |\n",
    "| 2020-09-20        | 1.0     | Joseph     | Modified Multiple Areas |\n",
    "| 2020-11-04        | 1.1.    | Nayef      | updating the input data |\n",
    "| 2021-05-026       | 1.1.    | Joseph      | updating the input data |\n",
    "-->\n"
   ]
  },
  {
   "cell_type": "markdown",
   "metadata": {},
   "source": [
    "Copyright © 2021 IBM Corporation. All rights reserved.\n"
   ]
  }
 ],
 "metadata": {
  "kernelspec": {
   "display_name": "Python 3 (ipykernel)",
   "language": "python",
   "name": "python3"
  },
  "language_info": {
   "codemirror_mode": {
    "name": "ipython",
    "version": 3
   },
   "file_extension": ".py",
   "mimetype": "text/x-python",
   "name": "python",
   "nbconvert_exporter": "python",
   "pygments_lexer": "ipython3",
   "version": "3.12.8"
  },
  "prev_pub_hash": "37d00a34bf8d9ff95690b1e2c3e0b93e0ca718e417b7a80831c19d2950393bda"
 },
 "nbformat": 4,
 "nbformat_minor": 4
}
